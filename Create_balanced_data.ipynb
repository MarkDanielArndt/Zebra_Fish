{
 "cells": [
  {
   "cell_type": "code",
   "execution_count": 15,
   "metadata": {},
   "outputs": [],
   "source": [
    "import os\n",
    "import pandas as pd\n",
    "import xml.etree.ElementTree as ET\n",
    "import numpy as np\n",
    "from PIL import Image, ImageDraw\n",
    "\n",
    "# Function to extract fish data from Excel and match them to image files\n",
    "def extract_fish_data(excel_path, images_folder):\n",
    "    \"\"\"\n",
    "    Match fish data from Excel table with fish images in a folder. \n",
    "    Zip the Image Names (Data) with the Edema and Curved columns (Labels).\n",
    "    \n",
    "    Parameters:\n",
    "        excel_path (str): Path to the Excel table with columns 'sample', 'fish', 'edema', 'curved'.\n",
    "        images_folder (str): Path to the folder containing fish images.\n",
    "        \n",
    "    Returns:\n",
    "        list: A list of tuples (image_filename, edema, curved).\n",
    "    \"\"\"\n",
    "    # Load the Excel table\n",
    "    data = pd.read_excel(excel_path)\n",
    "    \n",
    "    # Ensure columns are correctly named\n",
    "    required_columns = {'Sample', 'Fish_Num', 'Edema', 'Curved'}\n",
    "    if not required_columns.issubset(data.columns):\n",
    "        raise ValueError(f\"The Excel file must contain the following columns: {required_columns}\")\n",
    "\n",
    "    # Prepare the output list\n",
    "    matched_data = []\n",
    "    \n",
    "    # Iterate through the Excel rows\n",
    "    for _, row in data.iterrows():\n",
    "        # Skip rows with 'NAW' in either 'edema' or 'curved'\n",
    "        if row['Edema'] == \"NAW\" or row['Curved'] == \"NAW\":\n",
    "            continue\n",
    "        \n",
    "        # Search for corresponding image file\n",
    "        for image_file in os.listdir(images_folder):\n",
    "            if f\"pr_{str(row['Sample'])}\" in image_file and f\"-{str(row['Fish_Num']).zfill(2)}.\" in image_file:\n",
    "                # Match found, append to result list\n",
    "                matched_data.append((image_file, row['Edema'], row['Curved']))\n",
    "                break  # Move to the next row in the Excel table\n",
    "\n",
    "    return matched_data\n",
    "\n",
    "# Function to create the binary mask from XML data\n",
    "def parse_voc_polygon(xml_path, image_size):\n",
    "    \"\"\"Parse the XML to generate the binary mask from polygon annotations.\"\"\"\n",
    "    tree = ET.parse(xml_path)\n",
    "    root = tree.getroot()\n",
    "\n",
    "    # Create an empty binary mask (0 means background, 1 means object)\n",
    "    width, height = image_size\n",
    "    mask = Image.new(\"1\", (width, height), 0)\n",
    "\n",
    "    draw = ImageDraw.Draw(mask)\n",
    "    for obj in root.findall(\"object\"):\n",
    "        polygon = obj.find(\"polygon\")\n",
    "        if polygon is not None:\n",
    "            points = []\n",
    "            for i in range(1, 500):  # Assuming max 500 points in a polygon\n",
    "                x_tag = f\"x{i}\"\n",
    "                y_tag = f\"y{i}\"\n",
    "                x = polygon.find(x_tag)\n",
    "                y = polygon.find(y_tag)\n",
    "                if x is not None and y is not None:\n",
    "                    points.append((int(float(x.text)), int(float(y.text))))\n",
    "                else:\n",
    "                    break\n",
    "            draw.polygon(points, outline=1, fill=1)\n",
    "\n",
    "    return mask\n",
    "\n",
    "# Function to create images and masks from the folder\n",
    "def create_data_from_folder(folder_path):\n",
    "    \"\"\"\n",
    "    Create lists of image and label arrays (binary masks) from a given folder.\n",
    "    \n",
    "    Args:\n",
    "        folder_path (str): Path to the folder containing images and .xml files.\n",
    "    \n",
    "    Returns:\n",
    "        tuple: Two lists, one for images (as numpy arrays) and one for labels (as numpy arrays).\n",
    "    \"\"\"\n",
    "    image_files = [f for f in os.listdir(folder_path) if f.endswith(('.jpg'))]  # Adjusted to .jpg\n",
    "    xml_files = []\n",
    "\n",
    "    # Find corresponding XML files based on image filenames\n",
    "    for image_file in image_files:\n",
    "        # Get the base name of the image file (remove the \".jpg\" part)\n",
    "        base_name = image_file.replace('.jpg', '')\n",
    "\n",
    "        # Find the corresponding XML file by using the base name\n",
    "        xml_file = [f for f in os.listdir(folder_path) if base_name in f and f.endswith('.xml')]\n",
    "\n",
    "        # If a corresponding XML file is found, add to xml_files list\n",
    "        if xml_file:\n",
    "            xml_files.append(xml_file[0])  # Assume there is only one corresponding XML file\n",
    "\n",
    "    images = []\n",
    "    labels = []\n",
    "\n",
    "    # Process each image and its corresponding XML\n",
    "    for image_file, xml_file in zip(image_files, xml_files):\n",
    "        img_path = os.path.join(folder_path, image_file)\n",
    "        xml_path = os.path.join(folder_path, xml_file)\n",
    "\n",
    "        # Parse XML and create the binary mask (label)\n",
    "        mask = parse_voc_polygon(xml_path, Image.open(img_path).size)\n",
    "\n",
    "        # Append the image and mask (binary label) as numpy arrays\n",
    "        image = np.array(Image.open(img_path).convert(\"RGB\"))\n",
    "        label = np.array(mask)\n",
    "\n",
    "        images.append(image)\n",
    "        labels.append(label)\n",
    "\n",
    "    # Convert lists to numpy arrays\n",
    "    images_np = np.array(images)\n",
    "    labels_np = np.array(labels)\n",
    "    \n",
    "    return images_np, labels_np\n",
    "\n",
    "# Function to create the final DataFrame combining Excel data with images and masks\n",
    "def create_final_dataframe(excel_path, images_folder, data_folder):\n",
    "    \"\"\"\n",
    "    Create a DataFrame combining image, mask, edema, and curved labels.\n",
    "    \n",
    "    Args:\n",
    "        excel_path (str): Path to the Excel table with columns 'sample', 'fish', 'edema', 'curved'.\n",
    "        images_folder (str): Path to the folder containing fish images.\n",
    "        data_folder (str): Path to the folder containing images and .xml files for masks.\n",
    "    \n",
    "    Returns:\n",
    "        pd.DataFrame: A DataFrame containing image, mask, edema, curved, and fish_body.\n",
    "    \"\"\"\n",
    "    # Extract data from Excel file and match with image files\n",
    "    matched_data = extract_fish_data(excel_path, images_folder)\n",
    "    \n",
    "    # Create image and label arrays from the XML files in the data folder\n",
    "    images_np, labels_np = create_data_from_folder(data_folder)\n",
    "\n",
    "    # Prepare the final data (image, mask, edema, curved, fish_body)\n",
    "    final_data = []\n",
    "    for (image_file, edema, curved), image, mask in zip(matched_data, images_np, labels_np):\n",
    "        # Apply mask to image\n",
    "        fish_body = image * np.expand_dims(mask, axis=-1)  # Apply the mask to the image\n",
    "\n",
    "        final_data.append({\n",
    "            'image': image,\n",
    "            'mask': mask,\n",
    "            'edema': edema,\n",
    "            'curved': curved,\n",
    "            'fish_body': fish_body  # Add the masked image\n",
    "        })\n",
    "\n",
    "    # Convert the final data to a DataFrame\n",
    "    df = pd.DataFrame(final_data)\n",
    "    \n",
    "    return df\n",
    "\n",
    "# Example usage\n",
    "excel_path = \"Annotation_Zebrafish.xlsx\"\n",
    "images_folder = \"C:/Users/ma405l/Documents/Heidelberg_Schweregrad/Full_data/Raw_data_full_train\"  # Path to folder with images for matching\n",
    "data_folder = \"C:/Users/ma405l/Documents/Heidelberg_Schweregrad/Full_data/Raw_data_full_train\"  # Path to folder with images and XMLs for masks\n",
    "\n",
    "# Create the final DataFrame\n",
    "final_df = create_final_dataframe(excel_path, images_folder, data_folder)\n"
   ]
  },
  {
   "cell_type": "code",
   "execution_count": 16,
   "metadata": {},
   "outputs": [
    {
     "ename": "KeyError",
     "evalue": "'image'",
     "output_type": "error",
     "traceback": [
      "\u001b[1;31m---------------------------------------------------------------------------\u001b[0m",
      "\u001b[1;31mKeyError\u001b[0m                                  Traceback (most recent call last)",
      "Cell \u001b[1;32mIn[16], line 4\u001b[0m\n\u001b[0;32m      2\u001b[0m i\u001b[38;5;241m=\u001b[39m\u001b[38;5;241m1\u001b[39m\n\u001b[0;32m      3\u001b[0m \u001b[38;5;66;03m# Let's check the first image and its label\u001b[39;00m\n\u001b[1;32m----> 4\u001b[0m first_image \u001b[38;5;241m=\u001b[39m \u001b[43mfinal_df\u001b[49m\u001b[43m[\u001b[49m\u001b[38;5;124;43m'\u001b[39;49m\u001b[38;5;124;43mimage\u001b[39;49m\u001b[38;5;124;43m'\u001b[39;49m\u001b[43m]\u001b[49m[i]\n\u001b[0;32m      5\u001b[0m first_label \u001b[38;5;241m=\u001b[39m final_df[\u001b[38;5;124m'\u001b[39m\u001b[38;5;124mfish_body\u001b[39m\u001b[38;5;124m'\u001b[39m][i]\n\u001b[0;32m      7\u001b[0m \u001b[38;5;66;03m# Display the first image and the corresponding first label map\u001b[39;00m\n",
      "File \u001b[1;32m~\\AppData\\Local\\Packages\\PythonSoftwareFoundation.Python.3.11_qbz5n2kfra8p0\\LocalCache\\local-packages\\Python311\\site-packages\\pandas\\core\\frame.py:4102\u001b[0m, in \u001b[0;36mDataFrame.__getitem__\u001b[1;34m(self, key)\u001b[0m\n\u001b[0;32m   4100\u001b[0m \u001b[38;5;28;01mif\u001b[39;00m \u001b[38;5;28mself\u001b[39m\u001b[38;5;241m.\u001b[39mcolumns\u001b[38;5;241m.\u001b[39mnlevels \u001b[38;5;241m>\u001b[39m \u001b[38;5;241m1\u001b[39m:\n\u001b[0;32m   4101\u001b[0m     \u001b[38;5;28;01mreturn\u001b[39;00m \u001b[38;5;28mself\u001b[39m\u001b[38;5;241m.\u001b[39m_getitem_multilevel(key)\n\u001b[1;32m-> 4102\u001b[0m indexer \u001b[38;5;241m=\u001b[39m \u001b[38;5;28;43mself\u001b[39;49m\u001b[38;5;241;43m.\u001b[39;49m\u001b[43mcolumns\u001b[49m\u001b[38;5;241;43m.\u001b[39;49m\u001b[43mget_loc\u001b[49m\u001b[43m(\u001b[49m\u001b[43mkey\u001b[49m\u001b[43m)\u001b[49m\n\u001b[0;32m   4103\u001b[0m \u001b[38;5;28;01mif\u001b[39;00m is_integer(indexer):\n\u001b[0;32m   4104\u001b[0m     indexer \u001b[38;5;241m=\u001b[39m [indexer]\n",
      "File \u001b[1;32m~\\AppData\\Local\\Packages\\PythonSoftwareFoundation.Python.3.11_qbz5n2kfra8p0\\LocalCache\\local-packages\\Python311\\site-packages\\pandas\\core\\indexes\\range.py:417\u001b[0m, in \u001b[0;36mRangeIndex.get_loc\u001b[1;34m(self, key)\u001b[0m\n\u001b[0;32m    415\u001b[0m         \u001b[38;5;28;01mraise\u001b[39;00m \u001b[38;5;167;01mKeyError\u001b[39;00m(key) \u001b[38;5;28;01mfrom\u001b[39;00m \u001b[38;5;21;01merr\u001b[39;00m\n\u001b[0;32m    416\u001b[0m \u001b[38;5;28;01mif\u001b[39;00m \u001b[38;5;28misinstance\u001b[39m(key, Hashable):\n\u001b[1;32m--> 417\u001b[0m     \u001b[38;5;28;01mraise\u001b[39;00m \u001b[38;5;167;01mKeyError\u001b[39;00m(key)\n\u001b[0;32m    418\u001b[0m \u001b[38;5;28mself\u001b[39m\u001b[38;5;241m.\u001b[39m_check_indexing_error(key)\n\u001b[0;32m    419\u001b[0m \u001b[38;5;28;01mraise\u001b[39;00m \u001b[38;5;167;01mKeyError\u001b[39;00m(key)\n",
      "\u001b[1;31mKeyError\u001b[0m: 'image'"
     ]
    }
   ],
   "source": [
    "import matplotlib.pyplot as plt\n",
    "i=1\n",
    "# Let's check the first image and its label\n",
    "first_image = final_df['image'][i]\n",
    "first_label = final_df['fish_body'][i]\n",
    "\n",
    "# Display the first image and the corresponding first label map\n",
    "fig, (ax1, ax2) = plt.subplots(1, 2, figsize=(10, 5))\n",
    "\n",
    "# Display the image\n",
    "ax1.imshow(first_image)\n",
    "ax1.set_title(\"First Image\")\n",
    "ax1.axis('off')  # Hide axes\n",
    "\n",
    "# Display the label map (binary mask)\n",
    "ax2.imshow(first_label, cmap='gray')\n",
    "ax2.set_title(\"First Label Map\")\n",
    "ax2.axis('off')  # Hide axes\n",
    "\n",
    "plt.show()"
   ]
  },
  {
   "cell_type": "code",
   "execution_count": null,
   "metadata": {},
   "outputs": [],
   "source": [
    "fish_body_processed = []\n",
    "\n",
    "for fish_body in final_df[\"fish_body\"]:\n",
    "    # Convert the fish body to a numpy array if it's not already\n",
    "    fish_body_array = np.array(fish_body)\n",
    "    \n",
    "    # Find the non-black rows and columns\n",
    "    non_black_rows = np.any(fish_body_array != 0, axis=(1, 2))\n",
    "    non_black_cols = np.any(fish_body_array != 0, axis=(0, 2))\n",
    "    \n",
    "    # Remove the black rows and columns\n",
    "    cropped_image = fish_body_array[non_black_rows][:, non_black_cols]\n",
    "    \n",
    "    # Append the processed image to the list\n",
    "    fish_body_processed.append(cropped_image)"
   ]
  },
  {
   "cell_type": "code",
   "execution_count": null,
   "metadata": {},
   "outputs": [
    {
     "data": {
      "image/png": "[encoded data removed]",
      "text/plain": [
       "<Figure size 432x288 with 1 Axes>"
      ]
     },
     "metadata": {
      "needs_background": "light"
     },
     "output_type": "display_data"
    }
   ],
   "source": [
    "import matplotlib.pyplot as plt\n",
    "\n",
    "# Plot the image using matplotlib\n",
    "plt.imshow(fish_body_processed[1])\n",
    "plt.axis('off')  # Hide axis\n",
    "plt.show()\n"
   ]
  },
  {
   "cell_type": "code",
   "execution_count": null,
   "metadata": {},
   "outputs": [],
   "source": [
    "def pad_and_resize_image(image, target_size=640):\n",
    "    \"\"\"\n",
    "    Pad the image to make it square and then resize to the target size.\n",
    "    \n",
    "    Args:\n",
    "        image (np.array): The input image (3 channels).\n",
    "        target_size (int): The target size for the square image.\n",
    "        \n",
    "    Returns:\n",
    "        np.array: The padded and resized square image.\n",
    "    \"\"\"\n",
    "    height, width, _ = image.shape\n",
    "    \n",
    "    # Determine the padding needed to make the image square\n",
    "    if height > width:\n",
    "        pad_left = (height - width) // 2\n",
    "        pad_right = height - width - pad_left\n",
    "        padded_image = np.pad(image, ((0, 0), (pad_left, pad_right), (0, 0)), mode='constant', constant_values=0)\n",
    "    elif width > height:\n",
    "        pad_top = (width - height) // 2\n",
    "        pad_bottom = width - height - pad_top\n",
    "        padded_image = np.pad(image, ((pad_top, pad_bottom), (0, 0), (0, 0)), mode='constant', constant_values=0)\n",
    "    else:\n",
    "        padded_image = image\n",
    "    \n",
    "    # Resize the padded image to the target size\n",
    "    resized_image = np.array(Image.fromarray(padded_image).resize((target_size, target_size)))\n",
    "    \n",
    "    return resized_image\n",
    "\n",
    "# Apply the function to all images in fish_body_processed\n",
    "padded_and_resized_images = [pad_and_resize_image(image) for image in fish_body_processed]"
   ]
  },
  {
   "cell_type": "code",
   "execution_count": null,
   "metadata": {},
   "outputs": [
    {
     "data": {
      "image/png": "[encoded data removed]",
      "text/plain": [
       "<Figure size 432x288 with 1 Axes>"
      ]
     },
     "metadata": {
      "needs_background": "light"
     },
     "output_type": "display_data"
    }
   ],
   "source": [
    "import matplotlib.pyplot as plt\n",
    "\n",
    "# Plot the image using matplotlib\n",
    "plt.imshow(padded_and_resized_images[50])\n",
    "plt.axis('off')  # Hide axis\n",
    "plt.show()"
   ]
  },
  {
   "cell_type": "code",
   "execution_count": null,
   "metadata": {},
   "outputs": [
    {
     "name": "stdout",
     "output_type": "stream",
     "text": [
      "82\n",
      "82\n"
     ]
    }
   ],
   "source": [
    "labels = final_df[\"curved\"].tolist()  # Convert the 'curved' column to a list of integers\n",
    "print(len(padded_and_resized_images))\n",
    "print(len(labels))"
   ]
  },
  {
   "cell_type": "code",
   "execution_count": null,
   "metadata": {},
   "outputs": [
    {
     "name": "stdout",
     "output_type": "stream",
     "text": [
      "Training set size: 57\n",
      "Validation set size: 8\n",
      "Test set size: 17\n"
     ]
    }
   ],
   "source": [
    "from sklearn.model_selection import train_test_split\n",
    "\n",
    "# First split: 70% train, 30% (validation + test)\n",
    "X_train, X_temp, y_train, y_temp = train_test_split(\n",
    "    padded_and_resized_images, labels, \n",
    "    test_size=0.3, \n",
    "    stratify=labels, \n",
    "    random_state=42\n",
    ")\n",
    "\n",
    "# Second split: 10% validation and 20% test from the remaining 30%\n",
    "X_val, X_test, y_val, y_test = train_test_split(\n",
    "    X_temp, y_temp, \n",
    "    test_size=2/3,  # 20% is 2/3 of 30%\n",
    "    stratify=y_temp, \n",
    "    random_state=42\n",
    ")\n",
    "\n",
    "# Output the sizes\n",
    "print(\"Training set size:\", len(X_train))\n",
    "print(\"Validation set size:\", len(X_val))\n",
    "print(\"Test set size:\", len(X_test))"
   ]
  },
  {
   "cell_type": "code",
   "execution_count": null,
   "metadata": {},
   "outputs": [],
   "source": [
    "padded_and_resized_images=X_test\n",
    "labels=y_test"
   ]
  },
  {
   "cell_type": "code",
   "execution_count": null,
   "metadata": {},
   "outputs": [
    {
     "name": "stdout",
     "output_type": "stream",
     "text": [
      "17\n"
     ]
    }
   ],
   "source": [
    "print(len(padded_and_resized_images))"
   ]
  },
  {
   "cell_type": "code",
   "execution_count": null,
   "metadata": {},
   "outputs": [],
   "source": [
    "# Create empty lists for each label group\n",
    "images_1 = []\n",
    "images_2 = []\n",
    "images_3 = []\n",
    "images_4 = []\n",
    "\n",
    "# Iterate over the images and labels\n",
    "for image, label in zip(padded_and_resized_images, labels):\n",
    "    if label == 1:\n",
    "        images_1.append(image)\n",
    "    elif label == 2:\n",
    "        images_2.append(image)\n",
    "    elif label == 3:\n",
    "        images_3.append(image)\n",
    "    elif label == 4:\n",
    "        images_4.append(image)\n",
    "\n",
    "# Now, images_1, images_2, images_3, and images_4 contain the respective images.\n"
   ]
  },
  {
   "cell_type": "code",
   "execution_count": null,
   "metadata": {},
   "outputs": [
    {
     "name": "stdout",
     "output_type": "stream",
     "text": [
      "1\n"
     ]
    }
   ],
   "source": [
    "print(len(images_1))"
   ]
  },
  {
   "cell_type": "code",
   "execution_count": null,
   "metadata": {},
   "outputs": [
    {
     "name": "stdout",
     "output_type": "stream",
     "text": [
      "Original dataset size: 1\n",
      "Augmented dataset size: 4\n"
     ]
    }
   ],
   "source": [
    "from PIL import Image\n",
    "import numpy as np\n",
    "\n",
    "# Create a new list to hold the augmented dataset\n",
    "augmented_images_1 = []\n",
    "\n",
    "# Loop through each image in images_1\n",
    "for image in images_1:\n",
    "    # Convert the NumPy array to a PIL Image for transformations\n",
    "    pil_image = Image.fromarray(image)\n",
    "\n",
    "    # Original image\n",
    "    augmented_images_1.append(image)\n",
    "\n",
    "    # Horizontally flipped\n",
    "    horizontal_flip = np.array(pil_image.transpose(Image.FLIP_LEFT_RIGHT))\n",
    "    augmented_images_1.append(horizontal_flip)\n",
    "\n",
    "    # Vertically flipped\n",
    "    vertical_flip = np.array(pil_image.transpose(Image.FLIP_TOP_BOTTOM))\n",
    "    augmented_images_1.append(vertical_flip)\n",
    "\n",
    "    # Both horizontally and vertically flipped\n",
    "    both_flipped = np.array(pil_image.transpose(Image.FLIP_LEFT_RIGHT).transpose(Image.FLIP_TOP_BOTTOM))\n",
    "    augmented_images_1.append(both_flipped)\n",
    "\n",
    "# Now augmented_images_1 contains the original images and the augmented ones\n",
    "# The total size should be 4 times the original size of images_1\n",
    "print(f\"Original dataset size: {len(images_1)}\")\n",
    "print(f\"Augmented dataset size: {len(augmented_images_1)}\")\n"
   ]
  },
  {
   "cell_type": "code",
   "execution_count": null,
   "metadata": {},
   "outputs": [
    {
     "name": "stdout",
     "output_type": "stream",
     "text": [
      "Original dataset size: 3\n",
      "Augmented dataset size: 9\n"
     ]
    }
   ],
   "source": [
    "from PIL import Image\n",
    "import numpy as np\n",
    "\n",
    "# Create a new list to hold the augmented dataset\n",
    "augmented_images_2 = []\n",
    "\n",
    "# Loop through each image in images_1\n",
    "for image in images_2:\n",
    "    # Convert the NumPy array to a PIL Image for transformations\n",
    "    pil_image = Image.fromarray(image)\n",
    "\n",
    "    # Original image\n",
    "    augmented_images_2.append(image)\n",
    "\n",
    "    # Horizontally flipped\n",
    "    horizontal_flip = np.array(pil_image.transpose(Image.FLIP_LEFT_RIGHT))\n",
    "    augmented_images_2.append(horizontal_flip)\n",
    "\n",
    "    # Vertically flipped\n",
    "    vertical_flip = np.array(pil_image.transpose(Image.FLIP_TOP_BOTTOM))\n",
    "    augmented_images_2.append(vertical_flip)\n",
    "\n",
    "# Now augmented_images_1 contains the original images and the augmented ones\n",
    "# The total size should be 3 times the original size of images_1\n",
    "print(f\"Original dataset size: {len(images_2)}\")\n",
    "print(f\"Augmented dataset size: {len(augmented_images_2)}\")"
   ]
  },
  {
   "cell_type": "code",
   "execution_count": null,
   "metadata": {},
   "outputs": [
    {
     "name": "stdout",
     "output_type": "stream",
     "text": [
      "Original dataset size: 5\n",
      "Augmented dataset size: 10\n"
     ]
    }
   ],
   "source": [
    "from PIL import Image\n",
    "import numpy as np\n",
    "\n",
    "# Create a new list to hold the augmented dataset\n",
    "augmented_images_3 = []\n",
    "\n",
    "# Loop through each image in images_1\n",
    "for image in images_3:\n",
    "    # Convert the NumPy array to a PIL Image for transformations\n",
    "    pil_image = Image.fromarray(image)\n",
    "\n",
    "    # Original image\n",
    "    augmented_images_3.append(image)\n",
    "\n",
    "    # Horizontally flipped\n",
    "    horizontal_flip = np.array(pil_image.transpose(Image.FLIP_LEFT_RIGHT))\n",
    "    augmented_images_3.append(horizontal_flip)\n",
    "\n",
    "\n",
    "# Now augmented_images_1 contains the original images and the augmented ones\n",
    "# The total size should be 2 times the original size of images_1\n",
    "print(f\"Original dataset size: {len(images_3)}\")\n",
    "print(f\"Augmented dataset size: {len(augmented_images_3)}\")\n"
   ]
  },
  {
   "cell_type": "code",
   "execution_count": null,
   "metadata": {},
   "outputs": [
    {
     "name": "stdout",
     "output_type": "stream",
     "text": [
      "Total 1 images: 6\n"
     ]
    },
    {
     "name": "stderr",
     "output_type": "stream",
     "text": [
      "<ipython-input-158-a3ce113cafce>:30: DeprecationWarning: ANTIALIAS is deprecated and will be removed in Pillow 10 (2023-07-01). Use LANCZOS or Resampling.LANCZOS instead.\n",
      "  zoomed_out_image = padded_image.resize((width, height), Image.ANTIALIAS)\n"
     ]
    }
   ],
   "source": [
    "from PIL import Image\n",
    "\n",
    "# Create a list to hold the zoomed-out images\n",
    "zoomed_1_images = []\n",
    "\n",
    "# Define a function to zoom out by a given factor\n",
    "def zoom_out_image(image, zoom_factor=0.2):\n",
    "    \"\"\"\n",
    "    Zoom out the image by adding padding around it.\n",
    "    \n",
    "    Args:\n",
    "        image (np.array): The input image (numpy array).\n",
    "        zoom_factor (float): The percentage to extend the dimensions (0.2 = 20%).\n",
    "    \n",
    "    Returns:\n",
    "        np.array: The zoomed-out image padded and resized to the original size.\n",
    "    \"\"\"\n",
    "    pil_image = Image.fromarray(image)\n",
    "    width, height = pil_image.size\n",
    "\n",
    "    # Calculate padding size\n",
    "    pad_width = int(width * zoom_factor)\n",
    "    pad_height = int(height * zoom_factor)\n",
    "\n",
    "    # Add padding around the image\n",
    "    padded_image = Image.new(\"RGB\", (width + 2 * pad_width, height + 2 * pad_height), (0, 0, 0))\n",
    "    padded_image.paste(pil_image, (pad_width, pad_height))\n",
    "\n",
    "    # Resize the padded image back to the original dimensions\n",
    "    zoomed_out_image = padded_image.resize((width, height), Image.ANTIALIAS)\n",
    "\n",
    "    return np.array(zoomed_out_image)\n",
    "\n",
    "# Apply zooming out to every second image in augmented_images_1\n",
    "for i, image in enumerate(augmented_images_1):\n",
    "    if i % 2 == 1:  # Every second image\n",
    "        zoomed_1_images.append(zoom_out_image(image))\n",
    "\n",
    "\n",
    "# Append the zoomed-out images to the augmented_images_1 list\n",
    "augmented_images_1.extend(zoomed_1_images)\n",
    "# Now zoomed_1_images contains the zoomed-out versions of every second image\n",
    "print(f\"Total 1 images: {len(augmented_images_1)}\")\n"
   ]
  },
  {
   "cell_type": "code",
   "execution_count": null,
   "metadata": {},
   "outputs": [
    {
     "name": "stdout",
     "output_type": "stream",
     "text": [
      "Number of images in augmented_images_1: 6\n",
      "Number of images in augmented_images_2: 9\n",
      "Number of images in augmented_images_3: 10\n",
      "Number of images in images_4: 8\n"
     ]
    }
   ],
   "source": [
    "print(f\"Number of images in augmented_images_1: {len(augmented_images_1)}\")\n",
    "print(f\"Number of images in augmented_images_2: {len(augmented_images_2)}\")\n",
    "print(f\"Number of images in augmented_images_3: {len(augmented_images_3)}\")\n",
    "print(f\"Number of images in images_4: {len(images_4)}\")"
   ]
  },
  {
   "cell_type": "code",
   "execution_count": null,
   "metadata": {},
   "outputs": [
    {
     "name": "stdout",
     "output_type": "stream",
     "text": [
      "Data saved\n"
     ]
    }
   ],
   "source": [
    "import os\n",
    "from PIL import Image\n",
    "\n",
    "# Define the base directory to save the dataset\n",
    "base_directory = \"Zebra_fish_data/Balanced_dataset/test\"\n",
    "\n",
    "# Ensure the base directory exists\n",
    "os.makedirs(base_directory, exist_ok=True)\n",
    "\n",
    "# Define subdirectories for each label\n",
    "subfolders = {\n",
    "    1: \"images_1\",\n",
    "    2: \"images_2\",\n",
    "    3: \"images_3\",\n",
    "    4: \"images_4\"\n",
    "}\n",
    "\n",
    "# Create subfolders for each label\n",
    "for label, folder_name in subfolders.items():\n",
    "    os.makedirs(os.path.join(base_directory, folder_name), exist_ok=True)\n",
    "\n",
    "# Save images to their respective subfolders\n",
    "def save_images(image_list, label):\n",
    "    folder_path = os.path.join(base_directory, subfolders[label])\n",
    "    for idx, image_array in enumerate(image_list):\n",
    "        image = Image.fromarray(image_array.astype('uint8'))  # Convert numpy array to image\n",
    "        image.save(os.path.join(folder_path, f\"image_{idx + 1}.png\"))  # Save as PNG\n",
    "\n",
    "# Save each augmented image list to the respective folder\n",
    "save_images(augmented_images_1, label=1)\n",
    "save_images(augmented_images_2, label=2)\n",
    "save_images(augmented_images_3, label=3)\n",
    "save_images(images_4, label=4)\n",
    "\n",
    "print(\"Data saved\")\n"
   ]
  }
 ],
 "metadata": {
  "kernelspec": {
   "display_name": "Python 3",
   "language": "python",
   "name": "python3"
  },
  "language_info": {
   "codemirror_mode": {
    "name": "ipython",
    "version": 3
   },
   "file_extension": ".py",
   "mimetype": "text/x-python",
   "name": "python",
   "nbconvert_exporter": "python",
   "pygments_lexer": "ipython3",
   "version": "3.11.9"
  }
 },
 "nbformat": 4,
 "nbformat_minor": 2
}
