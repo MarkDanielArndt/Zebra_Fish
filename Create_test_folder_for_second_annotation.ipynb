{
 "cells": [
  {
   "cell_type": "code",
   "execution_count": 3,
   "metadata": {},
   "outputs": [
    {
     "name": "stdout",
     "output_type": "stream",
     "text": [
      "Image creation completed.\n"
     ]
    }
   ],
   "source": [
    "import os\n",
    "import shutil\n",
    "import pandas as pd\n",
    "import glob  # To use wildcard matching\n",
    "\n",
    "# Set the paths\n",
    "excel_file = 'Annotation_Zebrafish_full_with_test.xlsx' \n",
    "image_folder = 'C:/Users/ma405l/Documents/Heidelberg_Schweregrad/Full_data/Raw_data_full_train'  \n",
    "test_folder = \"C:/Users/ma405l/Documents/Heidelberg_Schweregrad/Full_data/Test_annotation\"\n",
    "\n",
    "def create_test_images(excel_file, image_folder, test_folder):\n",
    "    # Load the Excel file into a DataFrame\n",
    "    df = pd.read_excel(excel_file)\n",
    "    \n",
    "    # Filter rows where Test_Num is not empty\n",
    "    df_filtered = df.dropna(subset=['Test_Num'])\n",
    "    \n",
    "    # Create the test folder if it doesn't exist\n",
    "    if not os.path.exists(test_folder):\n",
    "        os.makedirs(test_folder)\n",
    "    \n",
    "    # Loop through the filtered rows and process each entry\n",
    "    for index, row in df_filtered.iterrows():\n",
    "        sample = row['Sample']\n",
    "        fish_num = row['Fish_Num']\n",
    "        test_num = row['Test_Num']\n",
    "        \n",
    "        # Ensure fish_num is always two digits (e.g., '03' instead of '3')\n",
    "        fish_num_str = f\"{fish_num:02d}\"\n",
    "        \n",
    "        # Construct the image filename pattern based on Sample and Fish_Num\n",
    "        image_pattern = f\"*pr_{sample}-{fish_num_str}_*.jpg\"  # This will match files with this structure\n",
    "        \n",
    "        # Use glob to search for matching files\n",
    "        matching_files = glob.glob(os.path.join(image_folder, image_pattern))\n",
    "        \n",
    "        if matching_files:\n",
    "            # Assuming there's only one matching file, you can take the first one\n",
    "            image_filename = matching_files[0]\n",
    "            new_image_name = f\"Test_image_{int(test_num)}.jpg\"\n",
    "            new_image_path = os.path.join(test_folder, new_image_name)\n",
    "            \n",
    "            # Copy and rename the image to the test folder\n",
    "            shutil.copy(image_filename, new_image_path)\n",
    "            #print(f\"Copied: {image_filename} to {new_image_name}\")\n",
    "        else:\n",
    "            print(f\"Image not found for Sample {sample} and Fish_Num {fish_num}, skipping...\")\n",
    "    \n",
    "    print(\"Image creation completed.\")\n",
    "\n",
    "# Run the function\n",
    "create_test_images(excel_file, image_folder, test_folder)\n"
   ]
  }
 ],
 "metadata": {
  "kernelspec": {
   "display_name": "Python 3",
   "language": "python",
   "name": "python3"
  },
  "language_info": {
   "codemirror_mode": {
    "name": "ipython",
    "version": 3
   },
   "file_extension": ".py",
   "mimetype": "text/x-python",
   "name": "python",
   "nbconvert_exporter": "python",
   "pygments_lexer": "ipython3",
   "version": "3.11.9"
  }
 },
 "nbformat": 4,
 "nbformat_minor": 2
}
